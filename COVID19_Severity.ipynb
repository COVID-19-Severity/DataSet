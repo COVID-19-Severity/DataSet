{
  "cells": [
    {
      "cell_type": "markdown",
      "metadata": {
        "id": "view-in-github",
        "colab_type": "text"
      },
      "source": [
        "<a href=\"https://colab.research.google.com/github/COVID-19-Severity/DataSet/blob/main/COVID19_Severity.ipynb\" target=\"_parent\"><img src=\"https://colab.research.google.com/assets/colab-badge.svg\" alt=\"Open In Colab\"/></a>"
      ]
    },
    {
      "cell_type": "markdown",
      "metadata": {
        "id": "7da0e5ca"
      },
      "source": [
        "<hr>\n",
        "\n",
        "# :: SCRIPT AUTHORS ::\n",
        "## * Ademir Luiz do Prado\n",
        "## * Alexandre de Fátima Cobre\n",
        "<hr>\n",
        "\n",
        "# MACHINE LEARNING (ML)\n",
        "Development of a Machine Learning model for the prognosis of COVID-19 in terms of SEVERITY using laboratory biomarkers.\n",
        "The data are from examinations of patients treated at the Hospital de Clínicas of the Federal University of Paraná\n",
        "# LEGEND:\n",
        "### Sex:\n",
        "##### 1=Female\n",
        "##### 2=Male\n",
        "### COVID:\n",
        "##### * Total: 35,109 Positive Samples\n",
        "##### * Non-Severe (Mild to Moderate): 7,719 samples\n",
        "##### * Severe: 27,390 samples\n",
        "### Classification Severity:\n",
        "##### * Severe (Serious - Inpatients)\n",
        "##### * Non-Severe (Mild to Moderate - Outpatients)\n",
        "### Period of the Samples:\n",
        "##### * March 2020 to September 2022\n",
        "\n",
        "# OBJECTIVE:\n",
        "Develop a Machine Learning model to predict the severity of COVID-19 and identify biomarkers associated with this severity in order to optimize priority in hospital care."
      ],
      "id": "7da0e5ca"
    },
    {
      "cell_type": "code",
      "execution_count": null,
      "metadata": {
        "id": "v13OXQGW32Jv"
      },
      "outputs": [],
      "source": [
        "# PHASES:\n",
        "# 1: Import the DataSet\n",
        "# 2: Import the Pandas library for handling the DataSet\n",
        "# 3: Remove unnecessary columns (features) from DataSet\n",
        "# 4: Exploratory Analysis\n",
        "# 5: Install the Pycaret library to aid Auto-Machine Learn\n",
        "# 6: Import the Pycaret library\n",
        "# 7: Perform data pre-processing\n",
        "# 8: Build and compare models\n",
        "# 9: Train the best model based on predictive performance metrics\n",
        "#10: Extract the metrics results from the model\n",
        "#11: Write conclusions about the best identified model\n",
        "#12: Save the model to make predictions in real analyzes (Deploy)"
      ],
      "id": "v13OXQGW32Jv"
    },
    {
      "cell_type": "code",
      "execution_count": null,
      "metadata": {
        "id": "2N_0Ipu7mqGN"
      },
      "outputs": [],
      "source": [
        "# Phase 1: Import the DataSet\n",
        "\n",
        "from google.colab import files\n",
        "uploaded = files.upload()"
      ],
      "id": "2N_0Ipu7mqGN"
    },
    {
      "cell_type": "code",
      "execution_count": null,
      "metadata": {
        "id": "Y4YeHICemuoc"
      },
      "outputs": [],
      "source": [
        "# Phase 2: Import the Pandas library for handling the DataSet\n",
        "import pandas as pd\n",
        "DataSet = pd.read_csv(\"COVID19 DataSetSeverity.csv\")\n",
        "display (DataSet)"
      ],
      "id": "Y4YeHICemuoc"
    },
    {
      "cell_type": "code",
      "execution_count": null,
      "metadata": {
        "id": "c3e29203"
      },
      "outputs": [],
      "source": [
        "# Phase 3: Remove unnecessary columns (features) from DataSet\n",
        "DataSetSeverity = DataSet.drop(\"ID\", axis = 1)\n",
        "display (DataSetSeverity)"
      ],
      "id": "c3e29203"
    },
    {
      "cell_type": "code",
      "source": [
        "# Phase 4: Exploratory Analysis\n",
        "## 4.1. DataSet Informations\n",
        "DataSetSeverity.info()"
      ],
      "metadata": {
        "id": "Ri3zsT8WhZIi"
      },
      "id": "Ri3zsT8WhZIi",
      "execution_count": null,
      "outputs": []
    },
    {
      "cell_type": "code",
      "source": [
        "## 4.2. Install and Import library for Descriptive Statistics\n",
        "!pip install researchpy\n",
        "import researchpy as rp\n",
        "### 1: COVID Feature\n",
        "rp.summary_cat(DataSetSeverity['COVID'])"
      ],
      "metadata": {
        "id": "B2tjLQzz0gkn"
      },
      "id": "B2tjLQzz0gkn",
      "execution_count": null,
      "outputs": []
    },
    {
      "cell_type": "code",
      "source": [
        "### 2: Sex Feature\n",
        "rp.summary_cat(DataSetSeverity['Sex'])"
      ],
      "metadata": {
        "id": "Zb1oit7H2n9r"
      },
      "id": "Zb1oit7H2n9r",
      "execution_count": null,
      "outputs": []
    },
    {
      "cell_type": "code",
      "source": [
        "### 3: Biomarkers Features\n",
        "DescriptiveStat = DataSetSeverity\n",
        "DataStatistics = DescriptiveStat.drop(\"COVID\", axis = 1)\n",
        "DataStatistics = DataStatistics.drop(\"Sex\", axis = 1)\n",
        "for statistical in DataStatistics.columns:\n",
        "  display(rp.summary_cont(DataStatistics[statistical]))"
      ],
      "metadata": {
        "id": "2LOzKewj3WJp"
      },
      "id": "2LOzKewj3WJp",
      "execution_count": null,
      "outputs": []
    },
    {
      "cell_type": "code",
      "source": [
        "## 4.3. Analyzing the variation in biomarker levels between COVID-19 severity samples (SEVERE AND NON-SEVERE)\n",
        "\n",
        "### 1: Import Plotly library to graphics\n",
        "import plotly.express as px\n",
        "\n",
        "### 2: Create Graphics\n",
        "#      HISTOGRAM\n",
        "#for biomarker in DataSetSeverity.columns:\n",
        "#  if biomarker != 'COVID' and biomarker != 'Sex':\n",
        "#   graphic = px.histogram(DataSetSeverity, x = biomarker, color = \"COVID\", text_auto = True)\n",
        "#   graphic.show()\n",
        "\n",
        "#      BOXPLOT\n",
        "for biomarker in DataSetSeverity.columns:\n",
        "    if biomarker != 'COVID' and biomarker != 'Sex':\n",
        "      graphic = px.box(DataSetSeverity, x = DataSetSeverity.columns[0], y=biomarker, color=\"COVID\")\n",
        "      graphic.show()"
      ],
      "metadata": {
        "id": "kwDZNXDI6rBj"
      },
      "id": "kwDZNXDI6rBj",
      "execution_count": null,
      "outputs": []
    },
    {
      "cell_type": "code",
      "source": [
        "## Insights:\n",
        "## In general, the levels of all biomarkers varied between SEVERE and NON-SEVERE samples for COVID-19.\n",
        "## In general, SEVERE samples for COVID-19 had altered laboratory measurements compared to NON-SEVERE samples for COVID-19.\n",
        "## SEVERE samples for COVID-19 demonstrate changes in laboratory measurements.\n",
        "## All variables are important for analyzing the two groups of samples.\n",
        "## The differences between the groups show that an in-depth study of supervised Machine Learning is justifiable."
      ],
      "metadata": {
        "id": "ynFUcSRX9sql"
      },
      "id": "ynFUcSRX9sql",
      "execution_count": null,
      "outputs": []
    },
    {
      "cell_type": "code",
      "execution_count": null,
      "metadata": {
        "id": "5U1Mqbfvsp2w"
      },
      "outputs": [],
      "source": [
        "# Phase 5: Install the Pycaret library to aid Auto-Machine Learn\n",
        "!pip install pycaret"
      ],
      "id": "5U1Mqbfvsp2w"
    },
    {
      "cell_type": "code",
      "source": [
        "#Phase 6: Import the Pycaret library\n",
        "from pycaret import classification"
      ],
      "metadata": {
        "id": "0Q5FGHDrwYkX"
      },
      "id": "0Q5FGHDrwYkX",
      "execution_count": null,
      "outputs": []
    },
    {
      "cell_type": "code",
      "execution_count": null,
      "metadata": {
        "id": "00fff9af"
      },
      "outputs": [],
      "source": [
        "# Phase 7: Perform data pre-processing\n",
        "classification_setup = classification.setup(data = DataSetSeverity, target = \"COVID\")"
      ],
      "id": "00fff9af"
    },
    {
      "cell_type": "code",
      "execution_count": null,
      "metadata": {
        "id": "4e906af1"
      },
      "outputs": [],
      "source": [
        "# Phase 8: Build and compare models\n",
        "models = classification.compare_models()"
      ],
      "id": "4e906af1"
    },
    {
      "cell_type": "code",
      "execution_count": null,
      "metadata": {
        "id": "a3e39264"
      },
      "outputs": [],
      "source": [
        "# Phase 9: Train the best model based on predictive performance metrics\n",
        "# First: The Light Gradient Boosting Machine (lightgbm) model achieved the best performance. We will create the Light Gradient Boosting Machine model\n",
        "model_lightgbm = classification.create_model(\"lightgbm\")"
      ],
      "id": "a3e39264"
    },
    {
      "cell_type": "code",
      "source": [
        "# Second: The Extreme Gradient Boosting (xgboost) model second the best performance.\n",
        "model_xgboost = classification.create_model(\"xgboost\")"
      ],
      "metadata": {
        "id": "e2NghIqWlcei"
      },
      "id": "e2NghIqWlcei",
      "execution_count": null,
      "outputs": []
    },
    {
      "cell_type": "code",
      "source": [
        "# Third: The Random Forest Classifier (rf) model third the best performance.\n",
        "model_rf = classification.create_model(\"rf\")"
      ],
      "metadata": {
        "id": "0V-wlwsvt1jB"
      },
      "id": "0V-wlwsvt1jB",
      "execution_count": null,
      "outputs": []
    },
    {
      "cell_type": "code",
      "source": [
        "# Fourth: The Extra Trees Classifier (et) model fourth the best performance.\n",
        "model_et = classification.create_model(\"et\")"
      ],
      "metadata": {
        "id": "VRGdUEoiukZu"
      },
      "id": "VRGdUEoiukZu",
      "execution_count": null,
      "outputs": []
    },
    {
      "cell_type": "code",
      "source": [
        "# Fifth: The Gradient Boosting Classifier (gbc) model fifth the best performance.\n",
        "model_gbc = classification.create_model(\"gbc\")"
      ],
      "metadata": {
        "id": "8aQt1EaIu6N5"
      },
      "id": "8aQt1EaIu6N5",
      "execution_count": null,
      "outputs": []
    },
    {
      "cell_type": "code",
      "execution_count": null,
      "metadata": {
        "id": "e43ea3ce"
      },
      "outputs": [],
      "source": [
        "# Phase 10: Extract the metrics results from the 5 top models\n",
        "# First: lightgbm model metrics\n",
        "classification.evaluate_model(model_lightgbm)"
      ],
      "id": "e43ea3ce"
    },
    {
      "cell_type": "code",
      "source": [
        "# Second: xgboost model metrics\n",
        "classification.evaluate_model(model_xgboost)"
      ],
      "metadata": {
        "id": "oKNgLPGzv2u-"
      },
      "id": "oKNgLPGzv2u-",
      "execution_count": null,
      "outputs": []
    },
    {
      "cell_type": "code",
      "source": [
        "# Third: rf model metrics\n",
        "classification.evaluate_model(model_rf)"
      ],
      "metadata": {
        "id": "CS2P20T9xnaj"
      },
      "id": "CS2P20T9xnaj",
      "execution_count": null,
      "outputs": []
    },
    {
      "cell_type": "code",
      "source": [
        "# Fourth: et model metrics\n",
        "classification.evaluate_model(model_et)"
      ],
      "metadata": {
        "id": "tdWDNhyGxxTR"
      },
      "id": "tdWDNhyGxxTR",
      "execution_count": null,
      "outputs": []
    },
    {
      "cell_type": "code",
      "source": [
        "# Fifth: gbc model metrics\n",
        "classification.evaluate_model(model_gbc)"
      ],
      "metadata": {
        "id": "AwS7uC--yBWI"
      },
      "id": "AwS7uC--yBWI",
      "execution_count": null,
      "outputs": []
    },
    {
      "cell_type": "code",
      "execution_count": null,
      "metadata": {
        "id": "r2Z6UBPyBbVE"
      },
      "outputs": [],
      "source": [
        "# Plotting only the 10 most important biomarkers for lightgbm model\n",
        "classification.plot_model(model_lightgbm, plot =\"feature\")"
      ],
      "id": "r2Z6UBPyBbVE"
    },
    {
      "cell_type": "code",
      "execution_count": null,
      "metadata": {
        "id": "NQn5jCHG-HNX"
      },
      "outputs": [],
      "source": [
        "# Phase 11: Write conclusions about the best identified model\n",
        "# Several Machine Learning models were built to predict the diagnosis of COVID-19 using biomarker data from patients with COVID-19\n",
        "# The Light Gradient Boosting Machine (lightgbm) model had the best predictive performance\n",
        "# The 5 most important biomarkers for the prognosis of COVID-19, for the samples under study, were: C-reactive protein, Creatinine, Albumin, Lymphocytes and Erythrocytes\n",
        "# The next step is to develop the App so that the model can be used in Health Institutions."
      ],
      "id": "NQn5jCHG-HNX"
    },
    {
      "cell_type": "code",
      "execution_count": null,
      "metadata": {
        "id": "6d450f64"
      },
      "outputs": [],
      "source": [
        "# Phase 12: Save the model to make predictions in real analyzes (Deploy)\n",
        "classification.save_model(model_lightgbm, \"BestModel-ML_LightGBM\")"
      ],
      "id": "6d450f64"
    }
  ],
  "metadata": {
    "colab": {
      "provenance": [],
      "include_colab_link": true
    },
    "kernelspec": {
      "display_name": "Python 3",
      "name": "python3"
    },
    "language_info": {
      "codemirror_mode": {
        "name": "ipython",
        "version": 3
      },
      "file_extension": ".py",
      "mimetype": "text/x-python",
      "name": "python",
      "nbconvert_exporter": "python",
      "pygments_lexer": "ipython3",
      "version": "3.6.13"
    }
  },
  "nbformat": 4,
  "nbformat_minor": 5
}